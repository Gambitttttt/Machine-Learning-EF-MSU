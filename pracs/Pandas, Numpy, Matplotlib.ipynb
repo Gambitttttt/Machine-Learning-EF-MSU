{
 "cells": [
  {
   "cell_type": "code",
   "execution_count": 2,
   "metadata": {},
   "outputs": [],
   "source": [
    "import os\n",
    "import time\n",
    "from tqdm import tqdm_notebook # не обязательный\n",
    "import numpy as np\n",
    "import pandas as pd\n",
    "import matplotlib\n",
    "import matplotlib.pyplot as plt\n",
    "%matplotlib inline\n",
    "import seaborn as sns"
   ]
  },
  {
   "cell_type": "code",
   "execution_count": 4,
   "metadata": {},
   "outputs": [],
   "source": [
    "# Делает графики удобного размера\n",
    "matplotlib.rcParams['figure.figsize'] = (8, 8)\n",
    "# Делает красивый грид на графиках\n",
    "sns.set_style('whitegrid')"
   ]
  },
  {
   "cell_type": "markdown",
   "metadata": {},
   "source": [
    "### Pandas"
   ]
  },
  {
   "cell_type": "markdown",
   "metadata": {},
   "source": [
    "Для выполнения этого блока заданий вам понадобится файл <<Данные для практической работы №1>>"
   ]
  },
  {
   "cell_type": "code",
   "execution_count": 64,
   "metadata": {},
   "outputs": [],
   "source": [
    "# Загрузите данные в переменную dat и выведите размер датафрейма и первые 5 строк"
   ]
  },
  {
   "cell_type": "code",
   "execution_count": 45,
   "metadata": {
    "scrolled": true
   },
   "outputs": [
    {
     "name": "stdout",
     "output_type": "stream",
     "text": [
      "(4622, 5)\n"
     ]
    },
    {
     "data": {
      "text/html": [
       "<div>\n",
       "<style scoped>\n",
       "    .dataframe tbody tr th:only-of-type {\n",
       "        vertical-align: middle;\n",
       "    }\n",
       "\n",
       "    .dataframe tbody tr th {\n",
       "        vertical-align: top;\n",
       "    }\n",
       "\n",
       "    .dataframe thead th {\n",
       "        text-align: right;\n",
       "    }\n",
       "</style>\n",
       "<table border=\"1\" class=\"dataframe\">\n",
       "  <thead>\n",
       "    <tr style=\"text-align: right;\">\n",
       "      <th></th>\n",
       "      <th>order_id</th>\n",
       "      <th>quantity</th>\n",
       "      <th>item_name</th>\n",
       "      <th>choice_description</th>\n",
       "      <th>item_price</th>\n",
       "    </tr>\n",
       "  </thead>\n",
       "  <tbody>\n",
       "    <tr>\n",
       "      <th>0</th>\n",
       "      <td>1</td>\n",
       "      <td>1</td>\n",
       "      <td>Chips and Fresh Tomato Salsa</td>\n",
       "      <td>NaN</td>\n",
       "      <td>$2.39</td>\n",
       "    </tr>\n",
       "    <tr>\n",
       "      <th>1</th>\n",
       "      <td>1</td>\n",
       "      <td>1</td>\n",
       "      <td>Izze</td>\n",
       "      <td>[Clementine]</td>\n",
       "      <td>$3.39</td>\n",
       "    </tr>\n",
       "    <tr>\n",
       "      <th>2</th>\n",
       "      <td>1</td>\n",
       "      <td>1</td>\n",
       "      <td>Nantucket Nectar</td>\n",
       "      <td>[Apple]</td>\n",
       "      <td>$3.39</td>\n",
       "    </tr>\n",
       "    <tr>\n",
       "      <th>3</th>\n",
       "      <td>1</td>\n",
       "      <td>1</td>\n",
       "      <td>Chips and Tomatillo-Green Chili Salsa</td>\n",
       "      <td>NaN</td>\n",
       "      <td>$2.39</td>\n",
       "    </tr>\n",
       "    <tr>\n",
       "      <th>4</th>\n",
       "      <td>2</td>\n",
       "      <td>2</td>\n",
       "      <td>Chicken Bowl</td>\n",
       "      <td>[Tomatillo-Red Chili Salsa (Hot), [Black Beans...</td>\n",
       "      <td>$16.98</td>\n",
       "    </tr>\n",
       "  </tbody>\n",
       "</table>\n",
       "</div>"
      ],
      "text/plain": [
       "   order_id  quantity                              item_name  \\\n",
       "0         1         1           Chips and Fresh Tomato Salsa   \n",
       "1         1         1                                   Izze   \n",
       "2         1         1                       Nantucket Nectar   \n",
       "3         1         1  Chips and Tomatillo-Green Chili Salsa   \n",
       "4         2         2                           Chicken Bowl   \n",
       "\n",
       "                                  choice_description item_price  \n",
       "0                                                NaN     $2.39   \n",
       "1                                       [Clementine]     $3.39   \n",
       "2                                            [Apple]     $3.39   \n",
       "3                                                NaN     $2.39   \n",
       "4  [Tomatillo-Red Chili Salsa (Hot), [Black Beans...    $16.98   "
      ]
     },
     "execution_count": 45,
     "metadata": {},
     "output_type": "execute_result"
    }
   ],
   "source": [
    "dat = pd.read_csv('/Users/anton.andreytsev/Downloads/data.csv')\n",
    "print(dat.shape)\n",
    "dat.head(5)"
   ]
  },
  {
   "cell_type": "code",
   "execution_count": 10,
   "metadata": {},
   "outputs": [],
   "source": [
    "# Сколько пропусков в каждой из колонок (NaN)"
   ]
  },
  {
   "cell_type": "code",
   "execution_count": 11,
   "metadata": {},
   "outputs": [
    {
     "data": {
      "text/plain": [
       "order_id                 0\n",
       "quantity                 0\n",
       "item_name                0\n",
       "choice_description    1246\n",
       "item_price               0\n",
       "dtype: int64"
      ]
     },
     "execution_count": 11,
     "metadata": {},
     "output_type": "execute_result"
    }
   ],
   "source": [
    "dat.isnull().sum()"
   ]
  },
  {
   "cell_type": "code",
   "execution_count": 23,
   "metadata": {},
   "outputs": [],
   "source": [
    "# Напечатать таблицу с 2 колонками: 1 - уникальные значения quantity, 2 - сколько раз каждое такое значение встречается \n",
    "# (выведите их отсортированными по значениям quantity в возрастающем порядке)"
   ]
  },
  {
   "cell_type": "code",
   "execution_count": 24,
   "metadata": {},
   "outputs": [
    {
     "data": {
      "text/plain": [
       "1     4355\n",
       "2      224\n",
       "3       28\n",
       "4       10\n",
       "5        1\n",
       "7        1\n",
       "8        1\n",
       "10       1\n",
       "15       1\n",
       "Name: quantity, dtype: int64"
      ]
     },
     "execution_count": 24,
     "metadata": {},
     "output_type": "execute_result"
    }
   ],
   "source": [
    "dat.quantity.value_counts().sort_index()"
   ]
  },
  {
   "cell_type": "code",
   "execution_count": 25,
   "metadata": {},
   "outputs": [],
   "source": [
    "# Напечатать таблицу с 2 колонками: 1 - уникальные значения item_name, 2 - сколько раз каждое такое значение встречается \n",
    "# (выведите их отсортированными по значениям встречаемости в возрастающем порядке)"
   ]
  },
  {
   "cell_type": "code",
   "execution_count": 26,
   "metadata": {
    "scrolled": true
   },
   "outputs": [
    {
     "data": {
      "text/plain": [
       "Carnitas Salad                             1\n",
       "Chips and Mild Fresh Tomato Salsa          1\n",
       "Veggie Crispy Tacos                        1\n",
       "Crispy Tacos                               2\n",
       "Bowl                                       2\n",
       "Salad                                      2\n",
       "Steak Salad                                4\n",
       "Veggie Salad                               6\n",
       "Burrito                                    6\n",
       "Carnitas Salad Bowl                        6\n",
       "Carnitas Crispy Tacos                      7\n",
       "Veggie Soft Tacos                          7\n",
       "Chicken Salad                              9\n",
       "Barbacoa Salad Bowl                       10\n",
       "Barbacoa Crispy Tacos                     11\n",
       "Chips and Roasted Chili-Corn Salsa        18\n",
       "Veggie Salad Bowl                         18\n",
       "Chips and Tomatillo-Red Chili Salsa       20\n",
       "Izze                                      20\n",
       "Chips and Roasted Chili Corn Salsa        22\n",
       "Barbacoa Soft Tacos                       25\n",
       "Nantucket Nectar                          27\n",
       "Steak Salad Bowl                          29\n",
       "Chips and Tomatillo-Green Chili Salsa     31\n",
       "Steak Crispy Tacos                        35\n",
       "Carnitas Soft Tacos                       40\n",
       "Chips and Tomatillo Green Chili Salsa     43\n",
       "Chicken Crispy Tacos                      47\n",
       "Chips and Tomatillo Red Chili Salsa       48\n",
       "6 Pack Soft Drink                         54\n",
       "Steak Soft Tacos                          55\n",
       "Carnitas Burrito                          59\n",
       "Barbacoa Bowl                             66\n",
       "Carnitas Bowl                             68\n",
       "Veggie Bowl                               85\n",
       "Barbacoa Burrito                          91\n",
       "Veggie Burrito                            95\n",
       "Side of Chips                            101\n",
       "Canned Soda                              104\n",
       "Chips and Fresh Tomato Salsa             110\n",
       "Chicken Salad Bowl                       110\n",
       "Chicken Soft Tacos                       115\n",
       "Bottled Water                            162\n",
       "Steak Bowl                               211\n",
       "Chips                                    211\n",
       "Canned Soft Drink                        301\n",
       "Steak Burrito                            368\n",
       "Chips and Guacamole                      479\n",
       "Chicken Burrito                          553\n",
       "Chicken Bowl                             726\n",
       "Name: item_name, dtype: int64"
      ]
     },
     "execution_count": 26,
     "metadata": {},
     "output_type": "execute_result"
    }
   ],
   "source": [
    "dat.item_name.value_counts().sort_values()"
   ]
  },
  {
   "cell_type": "code",
   "execution_count": 43,
   "metadata": {},
   "outputs": [],
   "source": [
    "# Сделайте item_price типом float  (Подсказка: надо удалить знаки $)"
   ]
  },
  {
   "cell_type": "code",
   "execution_count": 46,
   "metadata": {},
   "outputs": [],
   "source": [
    "dat.item_price = dat.item_price.apply(lambda x: float(x.replace('$', '')))"
   ]
  },
  {
   "cell_type": "code",
   "execution_count": 49,
   "metadata": {},
   "outputs": [],
   "source": [
    "# Создайте колонку one_item_price - стоимость одной порции блюда, которая будет равна item_price/quantity"
   ]
  },
  {
   "cell_type": "code",
   "execution_count": 52,
   "metadata": {},
   "outputs": [],
   "source": [
    "dat['one_item_price'] = dat.item_price/dat.quantity"
   ]
  },
  {
   "cell_type": "code",
   "execution_count": null,
   "metadata": {},
   "outputs": [],
   "source": [
    "# Создайте датафрейм из 3 колонок: 1 - уникальные item_name, 2 - минимальная цена (one_item_price), 3 - максимальная цена (one_item_price)\n",
    "# Отсортируйте этот датафрейм по убыванию значения максимальной цены (one_item_price)\n",
    "# Сохраните полученный датафрейм в переменную dat_gr и напечатайте его первые 5 строк"
   ]
  },
  {
   "cell_type": "code",
   "execution_count": 63,
   "metadata": {},
   "outputs": [
    {
     "data": {
      "text/html": [
       "<div>\n",
       "<style scoped>\n",
       "    .dataframe tbody tr th:only-of-type {\n",
       "        vertical-align: middle;\n",
       "    }\n",
       "\n",
       "    .dataframe tbody tr th {\n",
       "        vertical-align: top;\n",
       "    }\n",
       "\n",
       "    .dataframe thead th {\n",
       "        text-align: right;\n",
       "    }\n",
       "</style>\n",
       "<table border=\"1\" class=\"dataframe\">\n",
       "  <thead>\n",
       "    <tr style=\"text-align: right;\">\n",
       "      <th></th>\n",
       "      <th>item_name</th>\n",
       "      <th>min</th>\n",
       "      <th>max</th>\n",
       "    </tr>\n",
       "  </thead>\n",
       "  <tbody>\n",
       "    <tr>\n",
       "      <th>0</th>\n",
       "      <td>Steak Salad Bowl</td>\n",
       "      <td>9.39</td>\n",
       "      <td>11.89</td>\n",
       "    </tr>\n",
       "    <tr>\n",
       "      <th>1</th>\n",
       "      <td>Carnitas Salad Bowl</td>\n",
       "      <td>9.39</td>\n",
       "      <td>11.89</td>\n",
       "    </tr>\n",
       "    <tr>\n",
       "      <th>2</th>\n",
       "      <td>Barbacoa Salad Bowl</td>\n",
       "      <td>9.39</td>\n",
       "      <td>11.89</td>\n",
       "    </tr>\n",
       "    <tr>\n",
       "      <th>3</th>\n",
       "      <td>Steak Soft Tacos</td>\n",
       "      <td>8.99</td>\n",
       "      <td>11.75</td>\n",
       "    </tr>\n",
       "    <tr>\n",
       "      <th>4</th>\n",
       "      <td>Barbacoa Bowl</td>\n",
       "      <td>8.69</td>\n",
       "      <td>11.75</td>\n",
       "    </tr>\n",
       "  </tbody>\n",
       "</table>\n",
       "</div>"
      ],
      "text/plain": [
       "             item_name   min    max\n",
       "0     Steak Salad Bowl  9.39  11.89\n",
       "1  Carnitas Salad Bowl  9.39  11.89\n",
       "2  Barbacoa Salad Bowl  9.39  11.89\n",
       "3     Steak Soft Tacos  8.99  11.75\n",
       "4        Barbacoa Bowl  8.69  11.75"
      ]
     },
     "execution_count": 63,
     "metadata": {},
     "output_type": "execute_result"
    }
   ],
   "source": [
    "dat_gr = dat.groupby(['item_name'])['one_item_price'].describe()[['min', 'max']].sort_values(by='max', ascending=False).reset_index()\n",
    "dat_gr.head(5)"
   ]
  },
  {
   "cell_type": "code",
   "execution_count": 65,
   "metadata": {},
   "outputs": [],
   "source": [
    "# Отсортируйте dat_gr по значению разницы между максимальной и минимальной ценами в убывающем порядке"
   ]
  },
  {
   "cell_type": "code",
   "execution_count": 67,
   "metadata": {
    "scrolled": true
   },
   "outputs": [
    {
     "data": {
      "text/html": [
       "<div>\n",
       "<style scoped>\n",
       "    .dataframe tbody tr th:only-of-type {\n",
       "        vertical-align: middle;\n",
       "    }\n",
       "\n",
       "    .dataframe tbody tr th {\n",
       "        vertical-align: top;\n",
       "    }\n",
       "\n",
       "    .dataframe thead th {\n",
       "        text-align: right;\n",
       "    }\n",
       "</style>\n",
       "<table border=\"1\" class=\"dataframe\">\n",
       "  <thead>\n",
       "    <tr style=\"text-align: right;\">\n",
       "      <th></th>\n",
       "      <th>item_name</th>\n",
       "      <th>min</th>\n",
       "      <th>max</th>\n",
       "      <th>range</th>\n",
       "    </tr>\n",
       "  </thead>\n",
       "  <tbody>\n",
       "    <tr>\n",
       "      <th>11</th>\n",
       "      <td>Steak Bowl</td>\n",
       "      <td>8.69</td>\n",
       "      <td>11.75</td>\n",
       "      <td>3.060000e+00</td>\n",
       "    </tr>\n",
       "    <tr>\n",
       "      <th>6</th>\n",
       "      <td>Carnitas Burrito</td>\n",
       "      <td>8.69</td>\n",
       "      <td>11.75</td>\n",
       "      <td>3.060000e+00</td>\n",
       "    </tr>\n",
       "    <tr>\n",
       "      <th>14</th>\n",
       "      <td>Barbacoa Burrito</td>\n",
       "      <td>8.69</td>\n",
       "      <td>11.75</td>\n",
       "      <td>3.060000e+00</td>\n",
       "    </tr>\n",
       "    <tr>\n",
       "      <th>22</th>\n",
       "      <td>Chicken Bowl</td>\n",
       "      <td>8.19</td>\n",
       "      <td>11.25</td>\n",
       "      <td>3.060000e+00</td>\n",
       "    </tr>\n",
       "    <tr>\n",
       "      <th>10</th>\n",
       "      <td>Steak Burrito</td>\n",
       "      <td>8.69</td>\n",
       "      <td>11.75</td>\n",
       "      <td>3.060000e+00</td>\n",
       "    </tr>\n",
       "    <tr>\n",
       "      <th>9</th>\n",
       "      <td>Steak Crispy Tacos</td>\n",
       "      <td>8.69</td>\n",
       "      <td>11.75</td>\n",
       "      <td>3.060000e+00</td>\n",
       "    </tr>\n",
       "    <tr>\n",
       "      <th>21</th>\n",
       "      <td>Chicken Burrito</td>\n",
       "      <td>8.19</td>\n",
       "      <td>11.25</td>\n",
       "      <td>3.060000e+00</td>\n",
       "    </tr>\n",
       "    <tr>\n",
       "      <th>4</th>\n",
       "      <td>Barbacoa Bowl</td>\n",
       "      <td>8.69</td>\n",
       "      <td>11.75</td>\n",
       "      <td>3.060000e+00</td>\n",
       "    </tr>\n",
       "    <tr>\n",
       "      <th>24</th>\n",
       "      <td>Chicken Salad</td>\n",
       "      <td>8.19</td>\n",
       "      <td>10.98</td>\n",
       "      <td>2.790000e+00</td>\n",
       "    </tr>\n",
       "    <tr>\n",
       "      <th>7</th>\n",
       "      <td>Carnitas Bowl</td>\n",
       "      <td>8.99</td>\n",
       "      <td>11.75</td>\n",
       "      <td>2.760000e+00</td>\n",
       "    </tr>\n",
       "    <tr>\n",
       "      <th>8</th>\n",
       "      <td>Carnitas Soft Tacos</td>\n",
       "      <td>8.99</td>\n",
       "      <td>11.75</td>\n",
       "      <td>2.760000e+00</td>\n",
       "    </tr>\n",
       "    <tr>\n",
       "      <th>5</th>\n",
       "      <td>Carnitas Crispy Tacos</td>\n",
       "      <td>8.99</td>\n",
       "      <td>11.75</td>\n",
       "      <td>2.760000e+00</td>\n",
       "    </tr>\n",
       "    <tr>\n",
       "      <th>3</th>\n",
       "      <td>Steak Soft Tacos</td>\n",
       "      <td>8.99</td>\n",
       "      <td>11.75</td>\n",
       "      <td>2.760000e+00</td>\n",
       "    </tr>\n",
       "    <tr>\n",
       "      <th>12</th>\n",
       "      <td>Barbacoa Soft Tacos</td>\n",
       "      <td>8.99</td>\n",
       "      <td>11.75</td>\n",
       "      <td>2.760000e+00</td>\n",
       "    </tr>\n",
       "    <tr>\n",
       "      <th>13</th>\n",
       "      <td>Barbacoa Crispy Tacos</td>\n",
       "      <td>8.99</td>\n",
       "      <td>11.75</td>\n",
       "      <td>2.760000e+00</td>\n",
       "    </tr>\n",
       "    <tr>\n",
       "      <th>16</th>\n",
       "      <td>Veggie Bowl</td>\n",
       "      <td>8.49</td>\n",
       "      <td>11.25</td>\n",
       "      <td>2.760000e+00</td>\n",
       "    </tr>\n",
       "    <tr>\n",
       "      <th>17</th>\n",
       "      <td>Veggie Burrito</td>\n",
       "      <td>8.49</td>\n",
       "      <td>11.25</td>\n",
       "      <td>2.760000e+00</td>\n",
       "    </tr>\n",
       "    <tr>\n",
       "      <th>18</th>\n",
       "      <td>Chicken Soft Tacos</td>\n",
       "      <td>8.49</td>\n",
       "      <td>11.25</td>\n",
       "      <td>2.760000e+00</td>\n",
       "    </tr>\n",
       "    <tr>\n",
       "      <th>20</th>\n",
       "      <td>Chicken Crispy Tacos</td>\n",
       "      <td>8.49</td>\n",
       "      <td>11.25</td>\n",
       "      <td>2.760000e+00</td>\n",
       "    </tr>\n",
       "    <tr>\n",
       "      <th>19</th>\n",
       "      <td>Veggie Soft Tacos</td>\n",
       "      <td>8.49</td>\n",
       "      <td>11.25</td>\n",
       "      <td>2.760000e+00</td>\n",
       "    </tr>\n",
       "    <tr>\n",
       "      <th>1</th>\n",
       "      <td>Carnitas Salad Bowl</td>\n",
       "      <td>9.39</td>\n",
       "      <td>11.89</td>\n",
       "      <td>2.500000e+00</td>\n",
       "    </tr>\n",
       "    <tr>\n",
       "      <th>23</th>\n",
       "      <td>Veggie Salad Bowl</td>\n",
       "      <td>8.75</td>\n",
       "      <td>11.25</td>\n",
       "      <td>2.500000e+00</td>\n",
       "    </tr>\n",
       "    <tr>\n",
       "      <th>0</th>\n",
       "      <td>Steak Salad Bowl</td>\n",
       "      <td>9.39</td>\n",
       "      <td>11.89</td>\n",
       "      <td>2.500000e+00</td>\n",
       "    </tr>\n",
       "    <tr>\n",
       "      <th>15</th>\n",
       "      <td>Chicken Salad Bowl</td>\n",
       "      <td>8.75</td>\n",
       "      <td>11.25</td>\n",
       "      <td>2.500000e+00</td>\n",
       "    </tr>\n",
       "    <tr>\n",
       "      <th>2</th>\n",
       "      <td>Barbacoa Salad Bowl</td>\n",
       "      <td>9.39</td>\n",
       "      <td>11.89</td>\n",
       "      <td>2.500000e+00</td>\n",
       "    </tr>\n",
       "    <tr>\n",
       "      <th>41</th>\n",
       "      <td>Chips and Fresh Tomato Salsa</td>\n",
       "      <td>2.29</td>\n",
       "      <td>2.95</td>\n",
       "      <td>6.600000e-01</td>\n",
       "    </tr>\n",
       "    <tr>\n",
       "      <th>34</th>\n",
       "      <td>Chips and Guacamole</td>\n",
       "      <td>3.89</td>\n",
       "      <td>4.45</td>\n",
       "      <td>5.600000e-01</td>\n",
       "    </tr>\n",
       "    <tr>\n",
       "      <th>47</th>\n",
       "      <td>Bottled Water</td>\n",
       "      <td>1.09</td>\n",
       "      <td>1.50</td>\n",
       "      <td>4.100000e-01</td>\n",
       "    </tr>\n",
       "    <tr>\n",
       "      <th>26</th>\n",
       "      <td>Steak Salad</td>\n",
       "      <td>8.69</td>\n",
       "      <td>8.99</td>\n",
       "      <td>3.000000e-01</td>\n",
       "    </tr>\n",
       "    <tr>\n",
       "      <th>45</th>\n",
       "      <td>Chips</td>\n",
       "      <td>1.99</td>\n",
       "      <td>2.15</td>\n",
       "      <td>1.600000e-01</td>\n",
       "    </tr>\n",
       "    <tr>\n",
       "      <th>31</th>\n",
       "      <td>Bowl</td>\n",
       "      <td>7.40</td>\n",
       "      <td>7.40</td>\n",
       "      <td>8.881784e-16</td>\n",
       "    </tr>\n",
       "    <tr>\n",
       "      <th>46</th>\n",
       "      <td>Side of Chips</td>\n",
       "      <td>1.69</td>\n",
       "      <td>1.69</td>\n",
       "      <td>2.220446e-16</td>\n",
       "    </tr>\n",
       "    <tr>\n",
       "      <th>39</th>\n",
       "      <td>Chips and Tomatillo Green Chili Salsa</td>\n",
       "      <td>2.95</td>\n",
       "      <td>2.95</td>\n",
       "      <td>0.000000e+00</td>\n",
       "    </tr>\n",
       "    <tr>\n",
       "      <th>48</th>\n",
       "      <td>Canned Soft Drink</td>\n",
       "      <td>1.25</td>\n",
       "      <td>1.25</td>\n",
       "      <td>0.000000e+00</td>\n",
       "    </tr>\n",
       "    <tr>\n",
       "      <th>44</th>\n",
       "      <td>Chips and Roasted Chili-Corn Salsa</td>\n",
       "      <td>2.39</td>\n",
       "      <td>2.39</td>\n",
       "      <td>0.000000e+00</td>\n",
       "    </tr>\n",
       "    <tr>\n",
       "      <th>43</th>\n",
       "      <td>Chips and Tomatillo-Green Chili Salsa</td>\n",
       "      <td>2.39</td>\n",
       "      <td>2.39</td>\n",
       "      <td>0.000000e+00</td>\n",
       "    </tr>\n",
       "    <tr>\n",
       "      <th>42</th>\n",
       "      <td>Chips and Tomatillo-Red Chili Salsa</td>\n",
       "      <td>2.39</td>\n",
       "      <td>2.39</td>\n",
       "      <td>0.000000e+00</td>\n",
       "    </tr>\n",
       "    <tr>\n",
       "      <th>40</th>\n",
       "      <td>Chips and Roasted Chili Corn Salsa</td>\n",
       "      <td>2.95</td>\n",
       "      <td>2.95</td>\n",
       "      <td>0.000000e+00</td>\n",
       "    </tr>\n",
       "    <tr>\n",
       "      <th>25</th>\n",
       "      <td>Carnitas Salad</td>\n",
       "      <td>8.99</td>\n",
       "      <td>8.99</td>\n",
       "      <td>0.000000e+00</td>\n",
       "    </tr>\n",
       "    <tr>\n",
       "      <th>38</th>\n",
       "      <td>Chips and Tomatillo Red Chili Salsa</td>\n",
       "      <td>2.95</td>\n",
       "      <td>2.95</td>\n",
       "      <td>0.000000e+00</td>\n",
       "    </tr>\n",
       "    <tr>\n",
       "      <th>37</th>\n",
       "      <td>Chips and Mild Fresh Tomato Salsa</td>\n",
       "      <td>3.00</td>\n",
       "      <td>3.00</td>\n",
       "      <td>0.000000e+00</td>\n",
       "    </tr>\n",
       "    <tr>\n",
       "      <th>36</th>\n",
       "      <td>Nantucket Nectar</td>\n",
       "      <td>3.39</td>\n",
       "      <td>3.39</td>\n",
       "      <td>0.000000e+00</td>\n",
       "    </tr>\n",
       "    <tr>\n",
       "      <th>35</th>\n",
       "      <td>Izze</td>\n",
       "      <td>3.39</td>\n",
       "      <td>3.39</td>\n",
       "      <td>0.000000e+00</td>\n",
       "    </tr>\n",
       "    <tr>\n",
       "      <th>33</th>\n",
       "      <td>6 Pack Soft Drink</td>\n",
       "      <td>6.49</td>\n",
       "      <td>6.49</td>\n",
       "      <td>0.000000e+00</td>\n",
       "    </tr>\n",
       "    <tr>\n",
       "      <th>32</th>\n",
       "      <td>Salad</td>\n",
       "      <td>7.40</td>\n",
       "      <td>7.40</td>\n",
       "      <td>0.000000e+00</td>\n",
       "    </tr>\n",
       "    <tr>\n",
       "      <th>30</th>\n",
       "      <td>Burrito</td>\n",
       "      <td>7.40</td>\n",
       "      <td>7.40</td>\n",
       "      <td>0.000000e+00</td>\n",
       "    </tr>\n",
       "    <tr>\n",
       "      <th>29</th>\n",
       "      <td>Crispy Tacos</td>\n",
       "      <td>7.40</td>\n",
       "      <td>7.40</td>\n",
       "      <td>0.000000e+00</td>\n",
       "    </tr>\n",
       "    <tr>\n",
       "      <th>28</th>\n",
       "      <td>Veggie Salad</td>\n",
       "      <td>8.49</td>\n",
       "      <td>8.49</td>\n",
       "      <td>0.000000e+00</td>\n",
       "    </tr>\n",
       "    <tr>\n",
       "      <th>27</th>\n",
       "      <td>Veggie Crispy Tacos</td>\n",
       "      <td>8.49</td>\n",
       "      <td>8.49</td>\n",
       "      <td>0.000000e+00</td>\n",
       "    </tr>\n",
       "    <tr>\n",
       "      <th>49</th>\n",
       "      <td>Canned Soda</td>\n",
       "      <td>1.09</td>\n",
       "      <td>1.09</td>\n",
       "      <td>0.000000e+00</td>\n",
       "    </tr>\n",
       "  </tbody>\n",
       "</table>\n",
       "</div>"
      ],
      "text/plain": [
       "                                item_name   min    max         range\n",
       "11                             Steak Bowl  8.69  11.75  3.060000e+00\n",
       "6                        Carnitas Burrito  8.69  11.75  3.060000e+00\n",
       "14                       Barbacoa Burrito  8.69  11.75  3.060000e+00\n",
       "22                           Chicken Bowl  8.19  11.25  3.060000e+00\n",
       "10                          Steak Burrito  8.69  11.75  3.060000e+00\n",
       "9                      Steak Crispy Tacos  8.69  11.75  3.060000e+00\n",
       "21                        Chicken Burrito  8.19  11.25  3.060000e+00\n",
       "4                           Barbacoa Bowl  8.69  11.75  3.060000e+00\n",
       "24                          Chicken Salad  8.19  10.98  2.790000e+00\n",
       "7                           Carnitas Bowl  8.99  11.75  2.760000e+00\n",
       "8                     Carnitas Soft Tacos  8.99  11.75  2.760000e+00\n",
       "5                   Carnitas Crispy Tacos  8.99  11.75  2.760000e+00\n",
       "3                        Steak Soft Tacos  8.99  11.75  2.760000e+00\n",
       "12                    Barbacoa Soft Tacos  8.99  11.75  2.760000e+00\n",
       "13                  Barbacoa Crispy Tacos  8.99  11.75  2.760000e+00\n",
       "16                            Veggie Bowl  8.49  11.25  2.760000e+00\n",
       "17                         Veggie Burrito  8.49  11.25  2.760000e+00\n",
       "18                     Chicken Soft Tacos  8.49  11.25  2.760000e+00\n",
       "20                   Chicken Crispy Tacos  8.49  11.25  2.760000e+00\n",
       "19                      Veggie Soft Tacos  8.49  11.25  2.760000e+00\n",
       "1                     Carnitas Salad Bowl  9.39  11.89  2.500000e+00\n",
       "23                      Veggie Salad Bowl  8.75  11.25  2.500000e+00\n",
       "0                        Steak Salad Bowl  9.39  11.89  2.500000e+00\n",
       "15                     Chicken Salad Bowl  8.75  11.25  2.500000e+00\n",
       "2                     Barbacoa Salad Bowl  9.39  11.89  2.500000e+00\n",
       "41           Chips and Fresh Tomato Salsa  2.29   2.95  6.600000e-01\n",
       "34                    Chips and Guacamole  3.89   4.45  5.600000e-01\n",
       "47                          Bottled Water  1.09   1.50  4.100000e-01\n",
       "26                            Steak Salad  8.69   8.99  3.000000e-01\n",
       "45                                  Chips  1.99   2.15  1.600000e-01\n",
       "31                                   Bowl  7.40   7.40  8.881784e-16\n",
       "46                          Side of Chips  1.69   1.69  2.220446e-16\n",
       "39  Chips and Tomatillo Green Chili Salsa  2.95   2.95  0.000000e+00\n",
       "48                      Canned Soft Drink  1.25   1.25  0.000000e+00\n",
       "44     Chips and Roasted Chili-Corn Salsa  2.39   2.39  0.000000e+00\n",
       "43  Chips and Tomatillo-Green Chili Salsa  2.39   2.39  0.000000e+00\n",
       "42    Chips and Tomatillo-Red Chili Salsa  2.39   2.39  0.000000e+00\n",
       "40     Chips and Roasted Chili Corn Salsa  2.95   2.95  0.000000e+00\n",
       "25                         Carnitas Salad  8.99   8.99  0.000000e+00\n",
       "38    Chips and Tomatillo Red Chili Salsa  2.95   2.95  0.000000e+00\n",
       "37      Chips and Mild Fresh Tomato Salsa  3.00   3.00  0.000000e+00\n",
       "36                       Nantucket Nectar  3.39   3.39  0.000000e+00\n",
       "35                                   Izze  3.39   3.39  0.000000e+00\n",
       "33                      6 Pack Soft Drink  6.49   6.49  0.000000e+00\n",
       "32                                  Salad  7.40   7.40  0.000000e+00\n",
       "30                                Burrito  7.40   7.40  0.000000e+00\n",
       "29                           Crispy Tacos  7.40   7.40  0.000000e+00\n",
       "28                           Veggie Salad  8.49   8.49  0.000000e+00\n",
       "27                    Veggie Crispy Tacos  8.49   8.49  0.000000e+00\n",
       "49                            Canned Soda  1.09   1.09  0.000000e+00"
      ]
     },
     "execution_count": 67,
     "metadata": {},
     "output_type": "execute_result"
    }
   ],
   "source": [
    "dat_gr['range'] = dat_gr['max'] - dat_gr['min']\n",
    "dat_gr.sort_values(by='range', ascending=False)"
   ]
  },
  {
   "cell_type": "code",
   "execution_count": 68,
   "metadata": {},
   "outputs": [],
   "source": [
    "# Отсортируйте item_name по длине названия и выдайте 5 самых длинных названий"
   ]
  },
  {
   "cell_type": "code",
   "execution_count": 77,
   "metadata": {},
   "outputs": [
    {
     "name": "stdout",
     "output_type": "stream",
     "text": [
      "Топ 5 самых длинных названий:\n",
      "['Chips and Tomatillo Green Chili Salsa', 'Chips and Tomatillo-Green Chili Salsa', 'Chips and Tomatillo Red Chili Salsa', 'Chips and Tomatillo-Red Chili Salsa', 'Chips and Roasted Chili Corn Salsa']\n",
      "Топ 5 самых коротких названий:\n",
      "['Izze', 'Bowl', 'Chips', 'Salad', 'Burrito']\n"
     ]
    }
   ],
   "source": [
    "print('Топ 5 самых длинных названий:')\n",
    "print(dat_gr.item_name[np.argsort(dat_gr.item_name.apply(lambda x: len(x)))[::-1]].head(5).tolist())\n",
    "print('Топ 5 самых коротких названий:')\n",
    "print(dat_gr.item_name[np.argsort(dat_gr.item_name.apply(lambda x: len(x)))].head(5).tolist())"
   ]
  },
  {
   "cell_type": "code",
   "execution_count": 86,
   "metadata": {},
   "outputs": [],
   "source": [
    "# Сколько заказов содержит ровно 1 товар? (Подсказка: заказ определяется order_id - все строки, у которых одинковый order_id - это один заказ)"
   ]
  },
  {
   "cell_type": "code",
   "execution_count": 85,
   "metadata": {},
   "outputs": [
    {
     "data": {
      "text/plain": [
       "128"
      ]
     },
     "execution_count": 85,
     "metadata": {},
     "output_type": "execute_result"
    }
   ],
   "source": [
    "(dat.groupby('order_id')['quantity'].agg(list).apply(lambda x: len(x)) == 1).sum()"
   ]
  },
  {
   "cell_type": "code",
   "execution_count": 104,
   "metadata": {},
   "outputs": [],
   "source": [
    "# Выведите все виды буррито которые есть с количеством раз, сколько они встречались в датафрейме dat \n",
    "# (Подсказка: во всех видах буррито присутствует слово \"Burrito\")"
   ]
  },
  {
   "cell_type": "code",
   "execution_count": 124,
   "metadata": {},
   "outputs": [
    {
     "data": {
      "text/plain": [
       "Chicken Burrito     553\n",
       "Steak Burrito       368\n",
       "Veggie Burrito       95\n",
       "Barbacoa Burrito     91\n",
       "Carnitas Burrito     59\n",
       "Burrito               6\n",
       "Name: item_name, dtype: int64"
      ]
     },
     "execution_count": 124,
     "metadata": {},
     "output_type": "execute_result"
    }
   ],
   "source": [
    "buritto_df = dat.item_name[['Burrito' in name for name in dat.item_name]].value_counts()\n",
    "buritto_df"
   ]
  },
  {
   "cell_type": "code",
   "execution_count": 127,
   "metadata": {},
   "outputs": [],
   "source": [
    "# Выведите таблицу с 2 колонками: 1 - уникальные виды буритто, 2 - их стоимости, отсортированную по убыванию стоимостей"
   ]
  },
  {
   "cell_type": "code",
   "execution_count": 128,
   "metadata": {},
   "outputs": [
    {
     "data": {
      "text/plain": [
       "item_name\n",
       "Steak Burrito       9.993424\n",
       "Carnitas Burrito    9.975932\n",
       "Barbacoa Burrito    9.832418\n",
       "Veggie Burrito      9.602842\n",
       "Chicken Burrito     9.475949\n",
       "Burrito             7.400000\n",
       "Name: one_item_price, dtype: float64"
      ]
     },
     "execution_count": 128,
     "metadata": {},
     "output_type": "execute_result"
    }
   ],
   "source": [
    "dat.loc[[name in buritto_df.keys() for name in dat.item_name]].groupby(['item_name'])['one_item_price'].mean().sort_values(ascending=False)"
   ]
  },
  {
   "cell_type": "code",
   "execution_count": 113,
   "metadata": {},
   "outputs": [],
   "source": [
    "# В каком количестве заказов есть товар, который составляет более 40% от стоимости всего заказа"
   ]
  },
  {
   "cell_type": "code",
   "execution_count": 112,
   "metadata": {},
   "outputs": [
    {
     "data": {
      "text/plain": [
       "2087"
      ]
     },
     "execution_count": 112,
     "metadata": {},
     "output_type": "execute_result"
    }
   ],
   "source": [
    "dat_merged = dat.merge(dat.groupby('order_id')['item_price'].sum().rename('total_price'), how='inner', on='order_id')\n",
    "((dat_merged['item_price']/dat_merged['total_price']) > 0.4).sum()"
   ]
  },
  {
   "cell_type": "code",
   "execution_count": 151,
   "metadata": {},
   "outputs": [],
   "source": [
    "# Представим, что товар [Diet Coke] (choice_description) на самом деле стоил на 15% дороже, чем написано в таблице \n",
    "# (то есть вместо 1.09 -> 1.09*1.15, 1.25 -> 1.25*1.15, 6.49 -> 6.49*1.15).\n",
    "# Сколько денег прошло мимо кассы, если учесть, что продавался этот товар по новой стоимости, а чек печатался по старой"
   ]
  },
  {
   "cell_type": "code",
   "execution_count": 155,
   "metadata": {},
   "outputs": [
    {
     "name": "stdout",
     "output_type": "stream",
     "text": [
      "49.0065\n"
     ]
    }
   ],
   "source": [
    "hidden_cash = dat.item_price[dat.choice_description[dat.choice_description.isin(['[Diet Coke]'])].index].sum()*0.15\n",
    "print(hidden_cash)"
   ]
  },
  {
   "cell_type": "code",
   "execution_count": 170,
   "metadata": {},
   "outputs": [],
   "source": [
    "# Создайте датафрейм из random_matrix, удовлетворяющий следующим условиям: \n",
    "# 1) колонки датафрейма должны называться ['A', 'B', 'C', 'D', 'E']\n",
    "# 2) Колонка \"B\" должна быть индексом\n",
    "# random_matrix = np.random.randint(-5, 5, size=(15, 5))\n",
    "# Сохраните полученный датафрейм на диск"
   ]
  },
  {
   "cell_type": "code",
   "execution_count": 171,
   "metadata": {
    "scrolled": true
   },
   "outputs": [
    {
     "data": {
      "text/html": [
       "<div>\n",
       "<style scoped>\n",
       "    .dataframe tbody tr th:only-of-type {\n",
       "        vertical-align: middle;\n",
       "    }\n",
       "\n",
       "    .dataframe tbody tr th {\n",
       "        vertical-align: top;\n",
       "    }\n",
       "\n",
       "    .dataframe thead th {\n",
       "        text-align: right;\n",
       "    }\n",
       "</style>\n",
       "<table border=\"1\" class=\"dataframe\">\n",
       "  <thead>\n",
       "    <tr style=\"text-align: right;\">\n",
       "      <th></th>\n",
       "      <th>A</th>\n",
       "      <th>C</th>\n",
       "      <th>D</th>\n",
       "      <th>E</th>\n",
       "    </tr>\n",
       "    <tr>\n",
       "      <th>B</th>\n",
       "      <th></th>\n",
       "      <th></th>\n",
       "      <th></th>\n",
       "      <th></th>\n",
       "    </tr>\n",
       "  </thead>\n",
       "  <tbody>\n",
       "    <tr>\n",
       "      <th>-4</th>\n",
       "      <td>4</td>\n",
       "      <td>0</td>\n",
       "      <td>-5</td>\n",
       "      <td>-5</td>\n",
       "    </tr>\n",
       "    <tr>\n",
       "      <th>2</th>\n",
       "      <td>-4</td>\n",
       "      <td>-3</td>\n",
       "      <td>3</td>\n",
       "      <td>3</td>\n",
       "    </tr>\n",
       "    <tr>\n",
       "      <th>-4</th>\n",
       "      <td>-4</td>\n",
       "      <td>-5</td>\n",
       "      <td>-1</td>\n",
       "      <td>-2</td>\n",
       "    </tr>\n",
       "    <tr>\n",
       "      <th>3</th>\n",
       "      <td>-2</td>\n",
       "      <td>-4</td>\n",
       "      <td>0</td>\n",
       "      <td>-1</td>\n",
       "    </tr>\n",
       "    <tr>\n",
       "      <th>4</th>\n",
       "      <td>-5</td>\n",
       "      <td>-5</td>\n",
       "      <td>-1</td>\n",
       "      <td>-4</td>\n",
       "    </tr>\n",
       "    <tr>\n",
       "      <th>3</th>\n",
       "      <td>4</td>\n",
       "      <td>0</td>\n",
       "      <td>1</td>\n",
       "      <td>3</td>\n",
       "    </tr>\n",
       "    <tr>\n",
       "      <th>-5</th>\n",
       "      <td>-4</td>\n",
       "      <td>2</td>\n",
       "      <td>0</td>\n",
       "      <td>-3</td>\n",
       "    </tr>\n",
       "    <tr>\n",
       "      <th>-2</th>\n",
       "      <td>-5</td>\n",
       "      <td>-5</td>\n",
       "      <td>-2</td>\n",
       "      <td>3</td>\n",
       "    </tr>\n",
       "    <tr>\n",
       "      <th>3</th>\n",
       "      <td>2</td>\n",
       "      <td>1</td>\n",
       "      <td>-1</td>\n",
       "      <td>4</td>\n",
       "    </tr>\n",
       "    <tr>\n",
       "      <th>-3</th>\n",
       "      <td>2</td>\n",
       "      <td>-5</td>\n",
       "      <td>3</td>\n",
       "      <td>2</td>\n",
       "    </tr>\n",
       "    <tr>\n",
       "      <th>1</th>\n",
       "      <td>4</td>\n",
       "      <td>-1</td>\n",
       "      <td>4</td>\n",
       "      <td>2</td>\n",
       "    </tr>\n",
       "    <tr>\n",
       "      <th>-5</th>\n",
       "      <td>-2</td>\n",
       "      <td>-3</td>\n",
       "      <td>1</td>\n",
       "      <td>-5</td>\n",
       "    </tr>\n",
       "    <tr>\n",
       "      <th>-1</th>\n",
       "      <td>1</td>\n",
       "      <td>-4</td>\n",
       "      <td>2</td>\n",
       "      <td>2</td>\n",
       "    </tr>\n",
       "    <tr>\n",
       "      <th>3</th>\n",
       "      <td>3</td>\n",
       "      <td>-1</td>\n",
       "      <td>-3</td>\n",
       "      <td>-5</td>\n",
       "    </tr>\n",
       "    <tr>\n",
       "      <th>-5</th>\n",
       "      <td>1</td>\n",
       "      <td>-2</td>\n",
       "      <td>-2</td>\n",
       "      <td>4</td>\n",
       "    </tr>\n",
       "  </tbody>\n",
       "</table>\n",
       "</div>"
      ],
      "text/plain": [
       "    A  C  D  E\n",
       "B             \n",
       "-4  4  0 -5 -5\n",
       " 2 -4 -3  3  3\n",
       "-4 -4 -5 -1 -2\n",
       " 3 -2 -4  0 -1\n",
       " 4 -5 -5 -1 -4\n",
       " 3  4  0  1  3\n",
       "-5 -4  2  0 -3\n",
       "-2 -5 -5 -2  3\n",
       " 3  2  1 -1  4\n",
       "-3  2 -5  3  2\n",
       " 1  4 -1  4  2\n",
       "-5 -2 -3  1 -5\n",
       "-1  1 -4  2  2\n",
       " 3  3 -1 -3 -5\n",
       "-5  1 -2 -2  4"
      ]
     },
     "execution_count": 171,
     "metadata": {},
     "output_type": "execute_result"
    }
   ],
   "source": [
    "pd.DataFrame(random_matrix, columns=['A', 'B', 'C', 'D', 'E']).set_index(['B'])#.to_csv('/.../dataframe.csv')"
   ]
  },
  {
   "cell_type": "code",
   "execution_count": null,
   "metadata": {},
   "outputs": [],
   "source": []
  }
 ],
 "metadata": {
  "kernelspec": {
   "display_name": "Python 3",
   "language": "python",
   "name": "python3"
  },
  "language_info": {
   "codemirror_mode": {
    "name": "ipython",
    "version": 3
   },
   "file_extension": ".py",
   "mimetype": "text/x-python",
   "name": "python",
   "nbconvert_exporter": "python",
   "pygments_lexer": "ipython3",
   "version": "3.7.1"
  }
 },
 "nbformat": 4,
 "nbformat_minor": 2
}
